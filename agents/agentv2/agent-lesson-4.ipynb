{
 "cells": [
  {
   "cell_type": "markdown",
   "id": "117ee9e2",
   "metadata": {},
   "source": [
    "This notebook has been streamlined a bit. In the top section, we do the following:\n",
    "- Create our 3 agents for 2023 - 2025.\n",
    "- This requires creating instruction contexts for each.\n",
    "- And creating tools for each. So we import our data and create some simple tools.\n",
    "- Then we turn each of these agents into tools themselves.\n",
    "- Then we create the supervisor agent and give it access to the subagents.\n",
    "- Now we're up & running."
   ]
  },
  {
   "cell_type": "code",
   "execution_count": 67,
   "id": "a515ab70",
   "metadata": {},
   "outputs": [],
   "source": [
    "from dotenv import load_dotenv\n",
    "from agents import Agent, Runner, trace, function_tool\n",
    "from openai.types.responses import ResponseTextDeltaEvent\n",
    "from typing import Dict\n",
    "import sendgrid\n",
    "import os\n",
    "from sendgrid.helpers.mail import Mail, Email, To, Content\n",
    "import asyncio"
   ]
  },
  {
   "cell_type": "code",
   "execution_count": 68,
   "id": "c8f5c116",
   "metadata": {},
   "outputs": [
    {
     "data": {
      "text/plain": [
       "True"
      ]
     },
     "execution_count": 68,
     "metadata": {},
     "output_type": "execute_result"
    }
   ],
   "source": [
    "load_dotenv(override=True)"
   ]
  },
  {
   "cell_type": "code",
   "execution_count": null,
   "id": "3ebc956d",
   "metadata": {},
   "outputs": [
    {
     "name": "stdout",
     "output_type": "stream",
     "text": [
      "202\n"
     ]
    }
   ],
   "source": [
    "\n",
    "def send_test_email():\n",
    "    sg = sendgrid.SendGridAPIClient(api_key=os.environ.get('SENDGRID_API_KEY'))\n",
    "    from_email = Email(\"jim@masinyusane.org\")\n",
    "    to_email = To(\"jim@masinyusane.org\")\n",
    "    content = Content(\"text/plain\", \"This is an important test email\")\n",
    "    mail = Mail(from_email, to_email, \"Test email\", content).get()\n",
    "    response = sg.client.mail.send.post(request_body=mail)\n",
    "    print(response.status_code)"
   ]
  },
  {
   "cell_type": "markdown",
   "id": "36038a7a",
   "metadata": {},
   "source": [
    "This is some background info for us to dynamically plug into each of the agent contexts"
   ]
  },
  {
   "cell_type": "code",
   "execution_count": 70,
   "id": "14f01352",
   "metadata": {},
   "outputs": [],
   "source": [
    "zz_background = \"\"\"# PROGRAMME OVERVIEW\n",
    "- Programme: **Zazi iZandi** (South Africa)\n",
    "- Intervention: Teaching small groups of **7 children** their letter sounds in a **frequency‑based sequence**.\n",
    "- Groups are **level‑based**: each group may be working on different letters at any given time.\n",
    "- Teacher Assistants (TAs) use an official **Letter Tracker** ordered by letter frequency.\"\"\""
   ]
  },
  {
   "cell_type": "code",
   "execution_count": 71,
   "id": "8d85011a",
   "metadata": {},
   "outputs": [],
   "source": [
    "instructions_2023 = f\"\"\"You are a helpful data analyst. You help the user with understanding the performance of the Zazi iZandi literacy programme in 2023. {zz_background}. \n",
    "In 2023, Zazi iZandi was piloted in 12 schools. The pilot ran for 3 months, from August to October. 52 youth were hired to work with 1897 children. \n",
    "\n",
    "# RESULTS\n",
    " \n",
    "The Grade 1 children improved their Early Grade Reading Assessment (EGRA) scores from 24 to 47.\n",
    "The Grade 1 children improved the number of letters they knew from 13 to 21. \n",
    "The percent of Grade 1 children that reached the target Reading Benchmark increased to 74%.\n",
    "The Grade R children improved their EGRA scores from 5 to 26.\n",
    "The Grade R children improved the number of letters they knew from 3 to 12. \n",
    "\n",
    "#TOOLS\n",
    "If you need to know the number of children on the programme, you can use the get_2023_number_of_children function.\"\"\"\n"
   ]
  },
  {
   "cell_type": "code",
   "execution_count": 72,
   "id": "5bca36ab",
   "metadata": {},
   "outputs": [],
   "source": [
    "instructions_2024 = f\"\"\"You are a helpful data analyst. You help the user with understanding the performance of the Zazi iZandi literacy programme in 2023. {zz_background}. \n",
    "In 2024, Zazi iZandi was piloted in 16 schools. 82 youth were hired to work with 3490 children. \n",
    "\n",
    "# RESULTS\n",
    " \n",
    "The Grade 1 children improved their Early Grade Reading Assessment (EGRA) scores from 14 to 38.\n",
    "The percent of Grade 1 children that reached the target Reading Benchmark increased from 13%to 53%.\n",
    "The Grade R children improved their EGRA scores from 1 to 25.\n",
    "\n",
    "#TOOLS\n",
    "If you need to know the number of children on the programme, you can use the get_2023_number_of_children function.\"\"\""
   ]
  },
  {
   "cell_type": "code",
   "execution_count": 73,
   "id": "a4417b56",
   "metadata": {},
   "outputs": [],
   "source": [
    "instructions_2025 = f\"\"\"You are a helpful data analyst. You help the user with understanding the performance of the Zazi iZandi literacy programme in 2025. {zz_background}. \n",
    "Your information is updated through June, so we're only halfway through the year. \n",
    "In 2025, Zazi iZandi was piloted in 16 schools. 66 youth were hired to work with 2352 children. A further 20 youth were hired to pilot the programme in 15 Early Childhood Development Centers (ECDs) with 4-6 year old children.\n",
    "\n",
    "# RESULTS\n",
    " \n",
    "The Grade 1 children improved their Early Grade Reading Assessment (EGRA) scores from 12 to 22.\n",
    "The percent of Grade 1 children that reached the target Reading Benchmark increased from 6%to 17%.\n",
    "The Grade R children improved their EGRA scores from 2 to 10.\n",
    "The Early Childhood Development (ECD) children improved their EGRA scores from 1 to 6.5.\n",
    "\n",
    "#TOOLS\n",
    "If you need to know the number of children on the programme, you can use the get_2025_number_of_children function.\"\"\""
   ]
  },
  {
   "cell_type": "markdown",
   "id": "0a37b13d",
   "metadata": {},
   "source": [
    "Okay, now let's pull in our data"
   ]
  },
  {
   "cell_type": "code",
   "execution_count": 74,
   "id": "311e6b29",
   "metadata": {},
   "outputs": [],
   "source": [
    "import os\n",
    "import sys\n",
    "import pandas as pd\n",
    "import plotly.express as px\n",
    "import matplotlib.pyplot as plt\n",
    "import seaborn as sns\n",
    "import statsmodels.api as sm\n",
    "import streamlit as st\n",
    "\n",
    "# We need to set root directory so we can find the zz_data_process_23.py file. I should obviously move this into a better named directory, will do so in the future.\n",
    "root_dir = os.path.abspath(os.path.join(os.getcwd(), '..', '..'))\n",
    "if root_dir not in sys.path:\n",
    "    sys.path.append(root_dir)\n",
    "\n",
    "#2023 Data\n",
    "from zz_data_process_23 import process_zz_data_23\n",
    "from data_loader import load_zazi_izandi_2023\n",
    "\n",
    "def import_2023_results():\n",
    "    # Import dataframes\n",
    "    endline_df, sessions_df = load_zazi_izandi_2023()\n",
    "    endline = process_zz_data_23(endline_df, sessions_df)\n",
    "    return endline\n",
    "\n",
    "#2024 Data\n",
    "from zz_data_processing import process_zz_data_midline, process_zz_data_endline, grade1_df, gradeR_df\n",
    "from data_loader import load_zazi_izandi_2024\n",
    "\n",
    "def import_2024_results():\n",
    "    baseline_df, midline_df, sessions_df, baseline2_df, endline_df, endline2_df = load_zazi_izandi_2024()\n",
    "    \n",
    "    # Create deep copies to ensure data independence between tabs\n",
    "    baseline_df = baseline_df.copy()\n",
    "    midline_df = midline_df.copy()\n",
    "    sessions_df = sessions_df.copy()\n",
    "    endline_df = endline_df.copy()\n",
    "\n",
    "    midline, baseline = process_zz_data_midline(baseline_df, midline_df, sessions_df)\n",
    "    endline = process_zz_data_endline(endline_df)\n",
    "    grade1 = grade1_df(endline)\n",
    "    gradeR = gradeR_df(endline)\n",
    "    \n",
    "    return endline\n",
    "\n",
    "root_dir = os.path.abspath(os.path.join(os.getcwd(), '..', '..'))\n",
    "if root_dir not in sys.path:\n",
    "    sys.path.append(root_dir)\n",
    "    \n",
    "from process_survey_cto_updated import process_egra_data\n",
    "from data_loader import load_zazi_izandi_2025\n",
    "\n",
    "def import_2025_results():\n",
    "    # Load data\n",
    "    df_full, df_ecd = load_zazi_izandi_2025()\n",
    "    df_full['submission_date'] = pd.to_datetime(df_full['date'])\n",
    "\n",
    "    # Create initial and midline datasets for comparison charts\n",
    "    initial_df = df_full[df_full['submission_date'] < pd.Timestamp('2025-04-15')]\n",
    "    midline_df = df_full[df_full['submission_date'] >= pd.Timestamp('2025-04-15')]\n",
    "    \n",
    "    return midline_df"
   ]
  },
  {
   "cell_type": "markdown",
   "id": "4c8d23a1",
   "metadata": {},
   "source": [
    "Okay, let's create a super simple tools for each year."
   ]
  },
  {
   "cell_type": "code",
   "execution_count": 75,
   "id": "e149a5ec",
   "metadata": {},
   "outputs": [],
   "source": [
    "@function_tool\n",
    "def get_2023_number_of_children():\n",
    "    \"\"\"\n",
    "    Get the number of children on the programme in 2023\n",
    "    \"\"\"\n",
    "    endline_2023 = import_2023_results()\n",
    "    number_of_children = len(endline_2023)\n",
    "    return number_of_children\n",
    "\n",
    "@function_tool\n",
    "def get_2024_number_of_children():\n",
    "    \"\"\"\n",
    "    Get the number of children on the programme in 2024\n",
    "    \"\"\"\n",
    "    endline_2024 = import_2024_results()\n",
    "    number_of_children = len(endline_2024)\n",
    "    return number_of_children\n",
    "\n",
    "@function_tool\n",
    "def get_2025_number_of_children():\n",
    "    \"\"\"\n",
    "    Get the number of children on the programme in 2024\n",
    "    \"\"\"\n",
    "    midline_2025 = import_2025_results()\n",
    "    number_of_children = len(midline_2025)\n",
    "    return number_of_children"
   ]
  },
  {
   "cell_type": "markdown",
   "id": "6117844e",
   "metadata": {},
   "source": [
    "Let's create our 3 agents."
   ]
  },
  {
   "cell_type": "code",
   "execution_count": 76,
   "id": "1456b3c0",
   "metadata": {},
   "outputs": [],
   "source": [
    "zazi_2023_agent = Agent(\n",
    "        name=\"Zazi 2023 Agent\",\n",
    "        instructions=instructions_2023,\n",
    "        model=\"gpt-4o-mini\",\n",
    "        tools=[get_2023_number_of_children]\n",
    ")\n",
    "\n",
    "zazi_2024_agent = Agent(\n",
    "        name=\"Zazi 2024 Agent\",\n",
    "        instructions=instructions_2024,\n",
    "        model=\"gpt-4o-mini\",\n",
    "        tools=[get_2024_number_of_children]\n",
    ")\n",
    "\n",
    "zazi_2025_agent = Agent(\n",
    "        name=\"Zazi 2025 Agent\",\n",
    "        instructions=instructions_2025,\n",
    "        model=\"gpt-4o-mini\",\n",
    "        tools=[get_2025_number_of_children]\n",
    ")"
   ]
  },
  {
   "cell_type": "markdown",
   "id": "8edb6f97",
   "metadata": {},
   "source": [
    "Let's make the agents tools."
   ]
  },
  {
   "cell_type": "code",
   "execution_count": 77,
   "id": "45ff01f1",
   "metadata": {},
   "outputs": [],
   "source": [
    "tool_2023 = zazi_2023_agent.as_tool(tool_name=\"2023_researcher\", tool_description=\"Provides information, data, and statistics about the Zazi iZandi 2023 programme.\")\n",
    "tool_2024 = zazi_2024_agent.as_tool(tool_name=\"2024_researcher\", tool_description=\"Provides information, data, and statistics about the Zazi iZandi 2024 programme.\")\n",
    "tool_2025 = zazi_2025_agent.as_tool(tool_name=\"2025_researcher\", tool_description=\"Provides information, data, and statistics about the Zazi iZandi 2025 programme.\")\n"
   ]
  },
  {
   "cell_type": "markdown",
   "id": "a68c854e",
   "metadata": {},
   "source": [
    "Let's create our supervisor agent."
   ]
  },
  {
   "cell_type": "code",
   "execution_count": 78,
   "id": "72c2ec9b",
   "metadata": {},
   "outputs": [],
   "source": [
    "instructions_supervisor = \"\"\"You are a helpful data analyst. You help the user with understanding the performance of the Zazi iZandi literacy programme. \n",
    "{zz_background}.\n",
    "\n",
    "If the user asks for information about the 2023 programme, you can use the zazi_2023_agent.\n",
    "If the user asks for information about the 2024 programme, you can use the zazi_2024_agent.\n",
    "\n",
    "If no year is specified, assume the user in inquiring about 2024.\n",
    "\"\"\"\n",
    "\n"
   ]
  },
  {
   "cell_type": "code",
   "execution_count": 79,
   "id": "c86bc992",
   "metadata": {},
   "outputs": [],
   "source": [
    "zazi_supervisor = Agent(\n",
    "        name=\"Zazi Supervisor\",\n",
    "        instructions=instructions_supervisor,\n",
    "        model=\"gpt-4o\",\n",
    "        tools=[tool_2023, tool_2024, tool_2025]\n",
    ")"
   ]
  },
  {
   "cell_type": "markdown",
   "id": "646e483f",
   "metadata": {},
   "source": [
    "Let's quickly test the agentic system."
   ]
  },
  {
   "cell_type": "code",
   "execution_count": 80,
   "id": "3a16835d",
   "metadata": {},
   "outputs": [
    {
     "name": "stdout",
     "output_type": "stream",
     "text": [
      "In 2024, the Zazi iZandi literacy programme showed significant improvements for children:\n",
      "\n",
      "### Grade 1 Performance:\n",
      "- **EGRA Score Improvement**: Increased from **14** to **38**.\n",
      "- **Percentage of Children Reaching Reading Benchmark**: Rose from **13%** to **53%**.\n",
      "\n",
      "### Grade R Performance:\n",
      "- **EGRA Score Improvement**: Increased from **1** to **25**.\n",
      "\n",
      "These results indicate strong progress in literacy skills for both grades. If you need more detailed analysis, feel free to ask!\n"
     ]
    }
   ],
   "source": [
    "question = \"How did the children perform in 2024?\"\n",
    "\n",
    "with trace(\"Zazi iZandi Supervisor Agent\"):\n",
    "    result = await Runner.run(zazi_supervisor, question)\n",
    "\n",
    "print(result.final_output)"
   ]
  },
  {
   "cell_type": "code",
   "execution_count": 81,
   "id": "7593f68f",
   "metadata": {},
   "outputs": [
    {
     "data": {
      "text/markdown": [
       "In 2024, the Zazi iZandi literacy programme showed significant improvements for children:\n",
       "\n",
       "### Grade 1 Performance:\n",
       "- **EGRA Score Improvement**: Increased from **14** to **38**.\n",
       "- **Percentage of Children Reaching Reading Benchmark**: Rose from **13%** to **53%**.\n",
       "\n",
       "### Grade R Performance:\n",
       "- **EGRA Score Improvement**: Increased from **1** to **25**.\n",
       "\n",
       "These results indicate strong progress in literacy skills for both grades. If you need more detailed analysis, feel free to ask!"
      ],
      "text/plain": [
       "<IPython.core.display.Markdown object>"
      ]
     },
     "metadata": {},
     "output_type": "display_data"
    }
   ],
   "source": [
    "from IPython.display import Markdown, display\n",
    "display(Markdown(result.final_output))"
   ]
  },
  {
   "cell_type": "markdown",
   "id": "a8db4226",
   "metadata": {},
   "source": [
    "# New Lesson 4 Content"
   ]
  },
  {
   "cell_type": "markdown",
   "id": "736e9872",
   "metadata": {},
   "source": [
    "Let's have our supervisor return with some context for the user. We could create a context agent, but it's probably best to add into the initial instructions. I'm updating the instructions below."
   ]
  },
  {
   "cell_type": "code",
   "execution_count": 82,
   "id": "43f22f25",
   "metadata": {},
   "outputs": [],
   "source": [
    "instructions_supervisor = \"\"\"\n",
    "You are a helpful, insightful data analyst supporting the user in understanding the performance of the Zazi iZandi literacy programme. Your goal is not just to present raw data, but to interpret it, highlight what is significant, and help the user understand why the results matter.\n",
    "\n",
    "{zz_background}\n",
    "\n",
    "Key responsibilities:\n",
    "1. When the user requests performance data, provide the requested numbers clearly.\n",
    "2. Where possible, **benchmark these results** against national and provincial norms using the research summaries below.\n",
    "3. Highlight meaningful comparisons or gains (e.g. \"In 2024, 53% of our Grade 1 learners were reading at grade level, compared to only 27% nationally\").\n",
    "4. If results are concerning or below benchmarks, gently and constructively identify these areas for improvement.\n",
    "5. Offer **plain-language** summaries alongside numbers, to help users (who may not be statisticians) understand the impact.\n",
    "\n",
    "Benchmarks and context you may refer to:\n",
    "- **By end of Grade 1**, fewer than 50% of South African learners in no-fee schools know all letters.\n",
    "- **Only 27% of Eastern Cape Grade 1 learners** reach 40 letters-per-minute (lpm) by year end.\n",
    "- In Nguni languages, only **7–32% of learners** hit the 40 letters per minute benchmark by end of Grade 1/start of Grade 2.\n",
    "- **Median fluency in Grade 2** nationally is 11 correct words per minute (benchmark = 30+).\n",
    "- Only **8–15% of Eastern Cape learners** meet the Grade 4 benchmark of 90 cwpm.\n",
    "- Pre-pandemic, **more than 55%** of Nguni/Sesotho-Setswana Grade 1 learners couldn’t read a single word from a grade-level text.\n",
    "- Girls outperform boys significantly in reading as grades progress.\n",
    "\n",
    "You can use:\n",
    "- `zazi_2023_agent` for 2023 programme information\n",
    "- `zazi_2024_agent` for 2024 programme information\n",
    "- If no year is specified, assume the user means 2024.\n",
    "\n",
    "Always aim to provide both **data and narrative** so users can make informed decisions and communicate the programme’s impact effectively.\n",
    "\"\"\"\n"
   ]
  },
  {
   "cell_type": "code",
   "execution_count": 83,
   "id": "3ed96893",
   "metadata": {},
   "outputs": [],
   "source": [
    "zazi_supervisor = Agent(\n",
    "        name=\"Zazi Supervisor\",\n",
    "        instructions=instructions_supervisor,\n",
    "        model=\"gpt-4o\",\n",
    "        tools=[tool_2023, tool_2024, tool_2025]\n",
    ")"
   ]
  },
  {
   "cell_type": "markdown",
   "id": "69e95a9d",
   "metadata": {},
   "source": [
    "Let's retest the agent w/ the updated context."
   ]
  },
  {
   "cell_type": "code",
   "execution_count": 84,
   "id": "415ff33f",
   "metadata": {},
   "outputs": [
    {
     "name": "stdout",
     "output_type": "stream",
     "text": [
      "In 2024, the Zazi iZandi literacy programme achieved notable success. Here’s a summary of the performance data:\n",
      "\n",
      "### Programme Performance\n",
      "\n",
      "#### Grade 1 Children:\n",
      "- **EGRA Score Improvement**: Increased from **14** to **38**.\n",
      "- **Percentage Reaching Reading Benchmark**: Climbed from **13%** to **53%**.\n",
      "\n",
      "**Interpretation:**\n",
      "- This means that over half of the children reached the reading benchmark, which is a significant achievement compared to the national figure where only 27% of Eastern Cape Grade 1 learners hit the 40 letters per minute benchmark.\n",
      "- The improvement in EGRA scores indicates substantial progress in literacy skills.\n",
      "\n",
      "#### Grade R Children:\n",
      "- **EGRA Score Improvement**: Jumped from **1** to **25**.\n",
      "\n",
      "**Interpretation:**\n",
      "- This considerable improvement in the EGRA score shows a strong foundational boost even before entering Grade 1.\n",
      "\n",
      "### Programme Reach\n",
      "\n",
      "In 2024, the programme:\n",
      "- Was piloted in 16 schools.\n",
      "- Employed 82 youth.\n",
      "- Served 3,490 children.\n",
      "\n",
      "### Narrative Summary\n",
      "The Zazi iZandi programme has made impressive strides in improving literacy among young learners. The percentage of Grade 1 children reaching the reading benchmark more than quadrupled. This suggests that the programme’s targeted approach and support structure are effectively enhancing early literacy skills.\n",
      "\n",
      "If you have any questions or need further details, feel free to ask!\n"
     ]
    }
   ],
   "source": [
    "question = \"How did the children perform in 2024?\"\n",
    "\n",
    "with trace(\"Zazi iZandi Supervisor Agent\"):\n",
    "    result = await Runner.run(zazi_supervisor, question)\n",
    "\n",
    "print(result.final_output)"
   ]
  },
  {
   "cell_type": "markdown",
   "id": "0d62ead9",
   "metadata": {},
   "source": [
    "# Next Steps\n",
    "1. Add more utility to the 2023 and 2024 tools.\n",
    "2. Create a 2025 agent (w/ corresponding tools).\n",
    "3. Add to the supervisor prompt so that it includes some context.\n",
    "4. Add in some RAG so that the agent can reference some Q&A.\n",
    "\n",
    "\n",
    "# Things we won't cover, but we'll eventually use to enhance our bot.\n",
    "5. Add in a guardrail so that no personal information is returned to the user.\n",
    "6. Add in some structured outputs.\n",
    "7. Add in a tool for the agent to email us if someone wants to connect. It should get their personal info.\n",
    "8. Add in a tool to send us a push notification and/or email if the LLM cannot answer a question."
   ]
  },
  {
   "cell_type": "markdown",
   "id": "8badb6f3",
   "metadata": {},
   "source": []
  }
 ],
 "metadata": {
  "kernelspec": {
   "display_name": "venv",
   "language": "python",
   "name": "python3"
  },
  "language_info": {
   "codemirror_mode": {
    "name": "ipython",
    "version": 3
   },
   "file_extension": ".py",
   "mimetype": "text/x-python",
   "name": "python",
   "nbconvert_exporter": "python",
   "pygments_lexer": "ipython3",
   "version": "3.13.5"
  }
 },
 "nbformat": 4,
 "nbformat_minor": 5
}
