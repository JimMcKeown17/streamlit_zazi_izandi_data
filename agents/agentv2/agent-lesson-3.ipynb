{
 "cells": [
  {
   "cell_type": "markdown",
   "id": "117ee9e2",
   "metadata": {},
   "source": [
    "Let's import the agent SDK classes and functions we need, as long as sendgrid helper info."
   ]
  },
  {
   "cell_type": "code",
   "execution_count": 1,
   "id": "a515ab70",
   "metadata": {},
   "outputs": [],
   "source": [
    "from dotenv import load_dotenv\n",
    "from agents import Agent, Runner, trace, function_tool\n",
    "from openai.types.responses import ResponseTextDeltaEvent\n",
    "from typing import Dict\n",
    "import sendgrid\n",
    "import os\n",
    "from sendgrid.helpers.mail import Mail, Email, To, Content\n",
    "import asyncio"
   ]
  },
  {
   "cell_type": "code",
   "execution_count": 2,
   "id": "c8f5c116",
   "metadata": {},
   "outputs": [
    {
     "data": {
      "text/plain": [
       "True"
      ]
     },
     "execution_count": 2,
     "metadata": {},
     "output_type": "execute_result"
    }
   ],
   "source": [
    "load_dotenv(override=True)"
   ]
  },
  {
   "cell_type": "markdown",
   "id": "cdd7fc93",
   "metadata": {},
   "source": [
    "### Email Function\n",
    "We could use this to allow the LLM to email us for a variet of reasons. For example, maybe it wants to tell us there's a question it couldn't answer. Another example might be if someone is reaching out to us and the LLM wants to say something like, \"Hey, Jonas from Masifunde is asking to connect.\""
   ]
  },
  {
   "cell_type": "code",
   "execution_count": 3,
   "id": "3ebc956d",
   "metadata": {},
   "outputs": [
    {
     "name": "stdout",
     "output_type": "stream",
     "text": [
      "202\n"
     ]
    }
   ],
   "source": [
    "\n",
    "def send_test_email():\n",
    "    sg = sendgrid.SendGridAPIClient(api_key=os.environ.get('SENDGRID_API_KEY'))\n",
    "    from_email = Email(\"jim@masinyusane.org\")\n",
    "    to_email = To(\"jim@masinyusane.org\")\n",
    "    content = Content(\"text/plain\", \"This is an important test email\")\n",
    "    mail = Mail(from_email, to_email, \"Test email\", content).get()\n",
    "    response = sg.client.mail.send.post(request_body=mail)\n",
    "    print(response.status_code)\n",
    "\n",
    "send_test_email()"
   ]
  },
  {
   "cell_type": "markdown",
   "id": "36038a7a",
   "metadata": {},
   "source": [
    "This is some background info for us to dynamically plug into each of the agent contexts"
   ]
  },
  {
   "cell_type": "code",
   "execution_count": 4,
   "id": "14f01352",
   "metadata": {},
   "outputs": [],
   "source": [
    "zz_background = \"\"\"# PROGRAMME OVERVIEW\n",
    "- Programme: **Zazi iZandi** (South Africa)\n",
    "- Intervention: Teaching small groups of **7 children** their letter sounds in a **frequency‑based sequence**.\n",
    "- Groups are **level‑based**: each group may be working on different letters at any given time.\n",
    "- Teacher Assistants (TAs) use an official **Letter Tracker** ordered by letter frequency.\"\"\""
   ]
  },
  {
   "cell_type": "markdown",
   "id": "0a0c1566",
   "metadata": {},
   "source": [
    "Let's create some instructions for our agents. Putting this here to make the code more readable."
   ]
  },
  {
   "cell_type": "code",
   "execution_count": 5,
   "id": "2294c042",
   "metadata": {},
   "outputs": [],
   "source": [
    "instructions_2023 = f\"You are a helpful data analyst. You help the user with understanding the performance of the Zazi iZandi literacy programme in 2023. {zz_background}\"\n",
    "instructions_2024 = f\"You are a helpful data analyst. You help the user with understanding the performance of the Zazi iZandi literacy programme in 2024. {zz_background}\"\n",
    "instructions_2025 = f\"You are a helpful data analyst. You help the user with understanding the performance of the Zazi iZandi literacy programme in 2025. {zz_background}\"\n"
   ]
  },
  {
   "cell_type": "markdown",
   "id": "4bc231d1",
   "metadata": {},
   "source": [
    "Okay, let's create some agents!"
   ]
  },
  {
   "cell_type": "code",
   "execution_count": 6,
   "id": "98a3b265",
   "metadata": {},
   "outputs": [],
   "source": [
    "zazi_2023_agent = Agent(\n",
    "        name=\"Zazi 2023 Agent\",\n",
    "        instructions=instructions_2023,\n",
    "        model=\"gpt-4o-mini\"\n",
    ")\n",
    "\n",
    "zazi_2024_agent = Agent(\n",
    "        name=\"Zazi 2024 Agent\",\n",
    "        instructions=instructions_2024,\n",
    "        model=\"gpt-4o-mini\"\n",
    ")\n",
    "\n",
    "zazi_2025_agent = Agent(\n",
    "        name=\"Zazi 2025 Agent\",\n",
    "        instructions=instructions_2025,\n",
    "        model=\"gpt-4o-mini\"\n",
    ")"
   ]
  },
  {
   "cell_type": "code",
   "execution_count": 7,
   "id": "fb308cd6",
   "metadata": {},
   "outputs": [
    {
     "name": "stdout",
     "output_type": "stream",
     "text": [
      "The **Zazi iZandi** literacy programme is aimed at improving literacy among children in South Africa. Here are the key components of the programme:\n",
      "\n",
      "- **Target Group**: The programme focuses on small groups of children, specifically designed for enhanced learning.\n",
      "- **Instruction Method**: It emphasizes teaching letter sounds in a frequency-based sequence. This approach helps children learn the most commonly used letters first, which can aid in quicker reading and writing skills.\n",
      "- **Group Structure**: Children are grouped based on their literacy levels, allowing for tailored instruction that meets each child's needs.\n",
      "- **Letter Tracker**: Teacher Assistants (TAs) utilize an official tool known as the Letter Tracker. This tool organizes the instruction according to the frequency of letter use, ensuring that children are learning in the most effective order.\n",
      "\n",
      "Overall, Zazi iZandi aims to build a strong foundation in literacy for children, leveraging structured teaching methods to promote better educational outcomes."
     ]
    }
   ],
   "source": [
    "result = Runner.run_streamed(zazi_2023_agent, input=\"What is Zazi iZandi all about?\")\n",
    "async for event in result.stream_events():\n",
    "    if event.type == \"raw_response_event\" and isinstance(event.data, ResponseTextDeltaEvent):\n",
    "        print(event.data.delta, end=\"\", flush=True)"
   ]
  },
  {
   "cell_type": "markdown",
   "id": "0a37b13d",
   "metadata": {},
   "source": [
    "Okay, now let's pull in some data to give the agents some basic tools. Just going to set root path and then import some of the data loaders & preprocessors"
   ]
  },
  {
   "cell_type": "code",
   "execution_count": 8,
   "id": "311e6b29",
   "metadata": {},
   "outputs": [],
   "source": [
    "import os\n",
    "import sys\n",
    "import pandas as pd\n",
    "import plotly.express as px\n",
    "import matplotlib.pyplot as plt\n",
    "import seaborn as sns\n",
    "import statsmodels.api as sm\n",
    "import streamlit as st\n",
    "\n",
    "# We need to set root directory so we can find the zz_data_process_23.py file. I should obviously move this into a better named directory, will do so in the future.\n",
    "root_dir = os.path.abspath(os.path.join(os.getcwd(), '..', '..'))\n",
    "if root_dir not in sys.path:\n",
    "    sys.path.append(root_dir)\n",
    "\n",
    "#2023 Data\n",
    "from zz_data_process_23 import process_zz_data_23\n",
    "from data_loader import load_zazi_izandi_2023\n",
    "\n",
    "#2024 Data\n",
    "from zz_data_processing import process_zz_data_midline, process_zz_data_endline, grade1_df, gradeR_df\n",
    "from data_loader import load_zazi_izandi_2024\n",
    "\n",
    "\n"
   ]
  },
  {
   "cell_type": "markdown",
   "id": "948fb770",
   "metadata": {},
   "source": [
    "Create functions to import 2023 and 2024 data."
   ]
  },
  {
   "cell_type": "code",
   "execution_count": 9,
   "id": "1e54390d",
   "metadata": {},
   "outputs": [],
   "source": [
    "    \n",
    "def import_2023_results():\n",
    "    # Import dataframes\n",
    "    endline_df, sessions_df = load_zazi_izandi_2023()\n",
    "    endline = process_zz_data_23(endline_df, sessions_df)\n",
    "    return endline"
   ]
  },
  {
   "cell_type": "code",
   "execution_count": 10,
   "id": "bb4c5e1a",
   "metadata": {},
   "outputs": [],
   "source": [
    "def import_2024_results():\n",
    "    baseline_df, midline_df, sessions_df, baseline2_df, endline_df, endline2_df = load_zazi_izandi_2024()\n",
    "    \n",
    "    # Create deep copies to ensure data independence between tabs\n",
    "    baseline_df = baseline_df.copy()\n",
    "    midline_df = midline_df.copy()\n",
    "    sessions_df = sessions_df.copy()\n",
    "    endline_df = endline_df.copy()\n",
    "\n",
    "    midline, baseline = process_zz_data_midline(baseline_df, midline_df, sessions_df)\n",
    "    endline = process_zz_data_endline(endline_df)\n",
    "    grade1 = grade1_df(endline)\n",
    "    gradeR = gradeR_df(endline)\n",
    "    \n",
    "    return endline"
   ]
  },
  {
   "cell_type": "code",
   "execution_count": null,
   "id": "428c52ff",
   "metadata": {},
   "outputs": [],
   "source": []
  },
  {
   "cell_type": "markdown",
   "id": "4c8d23a1",
   "metadata": {},
   "source": [
    "Okay, let's create a super simple tool."
   ]
  },
  {
   "cell_type": "code",
   "execution_count": 11,
   "id": "e149a5ec",
   "metadata": {},
   "outputs": [],
   "source": [
    "@function_tool\n",
    "def get_2023_number_of_children():\n",
    "    \"\"\"\n",
    "    Get the number of children on the programme in 2023\n",
    "    \"\"\"\n",
    "    endline_2023 = import_2023_results()\n",
    "    number_of_children = len(endline_2023)\n",
    "    return number_of_children\n",
    "\n",
    "@function_tool\n",
    "def get_2024_number_of_children():\n",
    "    \"\"\"\n",
    "    Get the number of children on the programme in 2024\n",
    "    \"\"\"\n",
    "    endline_2024 = import_2024_results()\n",
    "    number_of_children = len(endline_2024)\n",
    "    return number_of_children"
   ]
  },
  {
   "cell_type": "markdown",
   "id": "febaaa60",
   "metadata": {},
   "source": [
    "Let's update the instructions to tell the LLM to use the tool to get the number of children if asked."
   ]
  },
  {
   "cell_type": "code",
   "execution_count": 12,
   "id": "7338aadc",
   "metadata": {},
   "outputs": [],
   "source": [
    "instructions_2023 = f\"You are a helpful data analyst. You help the user with understanding the performance of the Zazi iZandi literacy programme in 2023. {zz_background}. If you need to know the number of children on the programme, you can use the get_2023_number_of_children function.\"\n",
    "instructions_2024 = f\"You are a helpful data analyst. You help the user with understanding the performance of the Zazi iZandi literacy programme in 2024. {zz_background}. If you need to know the number of children on the programme, you can use the get_2024_number_of_children function.\"\n",
    "instructions_2025 = f\"You are a helpful data analyst. You help the user with understanding the performance of the Zazi iZandi literacy programme in 2025. {zz_background}. If you need to know the number of children on the programme, you can use the get_2025_number_of_children function.\"\n"
   ]
  },
  {
   "cell_type": "markdown",
   "id": "1ead639e",
   "metadata": {},
   "source": [
    "Now let's update the agents to have the tools we created."
   ]
  },
  {
   "cell_type": "code",
   "execution_count": 14,
   "id": "eec954a4",
   "metadata": {},
   "outputs": [],
   "source": [
    "zazi_2023_agent = Agent(\n",
    "        name=\"Zazi 2023 Agent\",\n",
    "        instructions=instructions_2023,\n",
    "        model=\"gpt-4o-mini\",\n",
    "        tools=[get_2023_number_of_children]\n",
    ")\n",
    "\n",
    "zazi_2024_agent = Agent(\n",
    "        name=\"Zazi 2024 Agent\",\n",
    "        instructions=instructions_2024,\n",
    "        model=\"gpt-4o-mini\",\n",
    "        tools=[get_2024_number_of_children]\n",
    ")"
   ]
  },
  {
   "cell_type": "code",
   "execution_count": 15,
   "id": "186bf61b",
   "metadata": {},
   "outputs": [],
   "source": [
    "question = \"How many children were on the programme in 2023?\""
   ]
  },
  {
   "cell_type": "code",
   "execution_count": 16,
   "id": "850ec248",
   "metadata": {},
   "outputs": [
    {
     "name": "stderr",
     "output_type": "stream",
     "text": [
      "2025-07-30 09:20:07.279 WARNING streamlit.runtime.scriptrunner_utils.script_run_context: Thread 'MainThread': missing ScriptRunContext! This warning can be ignored when running in bare mode.\n",
      "2025-07-30 09:20:07.281 WARNING streamlit.runtime.state.session_state_proxy: Session state does not function when running a script without `streamlit run`\n",
      "/Users/jimmckeown/Python/ZZ Data Site/venv/lib/python3.13/site-packages/openpyxl/worksheet/_reader.py:329: UserWarning: Unknown extension is not supported and will be removed\n",
      "  warn(msg)\n"
     ]
    },
    {
     "name": "stdout",
     "output_type": "stream",
     "text": [
      "In 2023, there were **1,896 children** on the Zazi iZandi literacy programme.\n"
     ]
    }
   ],
   "source": [
    "with trace(\"Zazi 2023 Agent\"):\n",
    "    result = await Runner.run(zazi_2023_agent, question)\n",
    "\n",
    "print(result.final_output)"
   ]
  },
  {
   "cell_type": "markdown",
   "id": "a261557c",
   "metadata": {},
   "source": [
    "Below is a version of the 2023 agent streaming back the results."
   ]
  },
  {
   "cell_type": "code",
   "execution_count": null,
   "id": "33144ff9",
   "metadata": {},
   "outputs": [
    {
     "name": "stderr",
     "output_type": "stream",
     "text": [
      "2025-07-30 09:20:17.493 WARNING streamlit.runtime.scriptrunner_utils.script_run_context: Thread 'MainThread': missing ScriptRunContext! This warning can be ignored when running in bare mode.\n",
      "/Users/jimmckeown/Python/ZZ Data Site/venv/lib/python3.13/site-packages/openpyxl/worksheet/_reader.py:329: UserWarning: Unknown extension is not supported and will be removed\n",
      "  warn(msg)\n"
     ]
    },
    {
     "name": "stdout",
     "output_type": "stream",
     "text": [
      "In 2023, there were **1,896 children** enrolled in the Zazi iZandi literacy programme."
     ]
    }
   ],
   "source": [
    "result = Runner.run_streamed(zazi_2023_agent, input=question)\n",
    "async for event in result.stream_events():\n",
    "    if event.type == \"raw_response_event\" and isinstance(event.data, ResponseTextDeltaEvent):\n",
    "        print(event.data.delta, end=\"\", flush=True)"
   ]
  },
  {
   "cell_type": "markdown",
   "id": "9c21b37e",
   "metadata": {},
   "source": [
    "# AGENTIC SOLUTION"
   ]
  },
  {
   "cell_type": "markdown",
   "id": "024e8f63",
   "metadata": {},
   "source": [
    "Okay, now let's create a more agentic solution. We will convert the 2023 and 2024 agents into tools themselves. And have a supervisor AI that calls on them if needed."
   ]
  },
  {
   "cell_type": "markdown",
   "id": "46ff5426",
   "metadata": {},
   "source": [
    "Let's start with updating the 2023 and 2024 prompts a bit. So those agents know a bit more about their respective years. "
   ]
  },
  {
   "cell_type": "code",
   "execution_count": 23,
   "id": "0baf5296",
   "metadata": {},
   "outputs": [],
   "source": [
    "instructions_2023 = f\"\"\"You are a helpful data analyst. You help the user with understanding the performance of the Zazi iZandi literacy programme in 2023. {zz_background}. \n",
    "In 2023, Zazi iZandi was piloted in 12 schools. The pilot ran for 3 months, from August to October. 52 youth were hired to work with 1897 children. \n",
    "\n",
    "# RESULTS\n",
    " \n",
    "The Grade 1 children improved their Early Grade Reading Assessment (EGRA) scores from 24 to 47.\n",
    "The Grade 1 children improved the number of letters they knew from 13 to 21. \n",
    "The percent of Grade 1 children that reached the target Reading Benchmark increased to 74%.\n",
    "The Grade R children improved their EGRA scores from 5 to 26.\n",
    "The Grade R children improved the number of letters they knew from 3 to 12. \n",
    "\n",
    "#TOOLS\n",
    "If you need to know the number of children on the programme, you can use the get_2023_number_of_children function.\"\"\"\n"
   ]
  },
  {
   "cell_type": "code",
   "execution_count": 24,
   "id": "90deca1e",
   "metadata": {},
   "outputs": [],
   "source": [
    "instructions_2024 = f\"\"\"You are a helpful data analyst. You help the user with understanding the performance of the Zazi iZandi literacy programme in 2023. {zz_background}. \n",
    "In 2024, Zazi iZandi was piloted in 16 schools. 82 youth were hired to work with 3490 children. \n",
    "\n",
    "# RESULTS\n",
    " \n",
    "The Grade 1 children improved their Early Grade Reading Assessment (EGRA) scores from 14 to 38.\n",
    "The percent of Grade 1 children that reached the target Reading Benchmark increased from 13%to 53%.\n",
    "The Grade R children improved their EGRA scores from 1 to 25.\n",
    "\n",
    "#TOOLS\n",
    "If you need to know the number of children on the programme, you can use the get_2023_number_of_children function.\"\"\""
   ]
  },
  {
   "cell_type": "markdown",
   "id": "4384d09f",
   "metadata": {},
   "source": [
    "Now that we updated the instructions, let's rerun the agent code."
   ]
  },
  {
   "cell_type": "code",
   "execution_count": 25,
   "id": "918aabad",
   "metadata": {},
   "outputs": [],
   "source": [
    "zazi_2023_agent = Agent(\n",
    "        name=\"Zazi 2023 Agent\",\n",
    "        instructions=instructions_2023,\n",
    "        model=\"gpt-4o-mini\",\n",
    "        tools=[get_2023_number_of_children]\n",
    ")\n",
    "\n",
    "zazi_2024_agent = Agent(\n",
    "        name=\"Zazi 2024 Agent\",\n",
    "        instructions=instructions_2024,\n",
    "        model=\"gpt-4o-mini\",\n",
    "        tools=[get_2024_number_of_children]\n",
    ")"
   ]
  },
  {
   "cell_type": "markdown",
   "id": "161b9898",
   "metadata": {},
   "source": []
  },
  {
   "cell_type": "markdown",
   "id": "6117844e",
   "metadata": {},
   "source": [
    "Okay, now let's set these agents to be tools. This could be confusing at first, but both functions and agents themselves can be tools."
   ]
  },
  {
   "cell_type": "code",
   "execution_count": 26,
   "id": "45ff01f1",
   "metadata": {},
   "outputs": [],
   "source": [
    "tool_2023 = zazi_2023_agent.as_tool(tool_name=\"2023_researcher\", tool_description=\"Provides information, data, and statistics about the Zazi iZandi 2023 programme.\")\n",
    "tool_2024 = zazi_2024_agent.as_tool(tool_name=\"2024_researcher\", tool_description=\"Provides information, data, and statistics about the Zazi iZandi 2024 programme.\")\n"
   ]
  },
  {
   "cell_type": "markdown",
   "id": "05717f7b",
   "metadata": {},
   "source": [
    "Now let's create a supervisor that has the ability to request information from the other agent tools."
   ]
  },
  {
   "cell_type": "code",
   "execution_count": 27,
   "id": "7a02f652",
   "metadata": {},
   "outputs": [],
   "source": [
    "instructions_supervisor = \"\"\"You are a helpful data analyst. You help the user with understanding the performance of the Zazi iZandi literacy programme. \n",
    "{zz_background}.\n",
    "\n",
    "If the user asks for information about the 2023 programme, you can use the zazi_2023_agent.\n",
    "If the user asks for information about the 2024 programme, you can use the zazi_2024_agent.\n",
    "\n",
    "If no year is specified, assume the user in inquiring about 2024.\n",
    "\"\"\"\n",
    "\n"
   ]
  },
  {
   "cell_type": "code",
   "execution_count": 28,
   "id": "c86bc992",
   "metadata": {},
   "outputs": [],
   "source": [
    "zazi_supervisor = Agent(\n",
    "        name=\"Zazi Supervisor\",\n",
    "        instructions=instructions_supervisor,\n",
    "        model=\"gpt-4o\",\n",
    "        tools=[tool_2023, tool_2024]\n",
    ")"
   ]
  },
  {
   "cell_type": "code",
   "execution_count": 31,
   "id": "3a16835d",
   "metadata": {},
   "outputs": [
    {
     "name": "stdout",
     "output_type": "stream",
     "text": [
      "In 2024, children participating in the Zazi iZandi programme showed significant improvements in literacy:\n",
      "\n",
      "### Grade 1 Children\n",
      "- **EGRA Score Improvement**: Increased from 14 to 38.\n",
      "- **Reading Benchmark Achievement**: The percentage of children reaching the target benchmark rose from 13% to 53%.\n",
      "\n",
      "### Grade R Children\n",
      "- **EGRA Score Improvement**: Increased from 1 to 25.\n",
      "\n",
      "These results reflect substantial progress in literacy skills for both Grade 1 and Grade R children. If you need further details or specific analysis, let me know!\n"
     ]
    }
   ],
   "source": [
    "question = \"How did the children perform in 2024?\"\n",
    "\n",
    "with trace(\"Zazi iZandi Supervisor Agent\"):\n",
    "    result = await Runner.run(zazi_supervisor, question)\n",
    "\n",
    "print(result.final_output)"
   ]
  },
  {
   "cell_type": "code",
   "execution_count": 32,
   "id": "7593f68f",
   "metadata": {},
   "outputs": [
    {
     "data": {
      "text/markdown": [
       "In 2024, children participating in the Zazi iZandi programme showed significant improvements in literacy:\n",
       "\n",
       "### Grade 1 Children\n",
       "- **EGRA Score Improvement**: Increased from 14 to 38.\n",
       "- **Reading Benchmark Achievement**: The percentage of children reaching the target benchmark rose from 13% to 53%.\n",
       "\n",
       "### Grade R Children\n",
       "- **EGRA Score Improvement**: Increased from 1 to 25.\n",
       "\n",
       "These results reflect substantial progress in literacy skills for both Grade 1 and Grade R children. If you need further details or specific analysis, let me know!"
      ],
      "text/plain": [
       "<IPython.core.display.Markdown object>"
      ]
     },
     "metadata": {},
     "output_type": "display_data"
    }
   ],
   "source": [
    "from IPython.display import Markdown, display\n",
    "display(Markdown(result.final_output))"
   ]
  },
  {
   "cell_type": "markdown",
   "id": "0d62ead9",
   "metadata": {},
   "source": [
    "# Next Steps\n",
    "1. Add more utility to the 2023 and 2024 tools.\n",
    "2. Create a 2025 agent (w/ corresponding tools).\n",
    "3. Add to the supervisor prompt so that it includes some context.\n",
    "4. Add in some RAG so that the agent can reference some Q&A.\n",
    "5. Ask agent to respond with some context.\n",
    "\n",
    "\n",
    "# Things we won't cover, but we'll eventually use to enhance our bot.\n",
    "5. Add in a guardrail so that no personal information is returned to the user.\n",
    "6. Add in some structured outputs.\n",
    "7. Add in a tool for the agent to email us if someone wants to connect. It should get their personal info.\n",
    "8. Add in a tool to send us a push notification and/or email if the LLM cannot answer a question."
   ]
  },
  {
   "cell_type": "markdown",
   "id": "878d7346",
   "metadata": {},
   "source": [
    "I'm going to quickly pull together the 2025 Agent\n"
   ]
  },
  {
   "cell_type": "code",
   "execution_count": 33,
   "id": "0b96be2a",
   "metadata": {},
   "outputs": [],
   "source": [
    "instructions_2025 = f\"\"\"You are a helpful data analyst. You help the user with understanding the performance of the Zazi iZandi literacy programme in 2025. {zz_background}. \n",
    "Your information is updated through June, so we're only halfway through the year. \n",
    "In 2025, Zazi iZandi was piloted in 16 schools. 66 youth were hired to work with 2352 children. A further 20 youth were hired to pilot the programme in 15 Early Childhood Development Centers (ECDs) with 4-6 year old children.\n",
    "\n",
    "# RESULTS\n",
    " \n",
    "The Grade 1 children improved their Early Grade Reading Assessment (EGRA) scores from 12 to 22.\n",
    "The percent of Grade 1 children that reached the target Reading Benchmark increased from 6%to 17%.\n",
    "The Grade R children improved their EGRA scores from 2 to 10.\n",
    "The Early Childhood Development (ECD) children improved their EGRA scores from 1 to 6.5.\n",
    "\n",
    "#TOOLS\n",
    "If you need to know the number of children on the programme, you can use the get_2025_number_of_children function.\"\"\""
   ]
  },
  {
   "cell_type": "code",
   "execution_count": 34,
   "id": "e5aeb3cb",
   "metadata": {},
   "outputs": [],
   "source": [
    "# We need to bring in the 2025 data. Then create a tool for it.\n",
    "\n",
    "#2025 Data\n",
    "# We need to set root directory so we can find the zz_data_process_23.py file. I should obviously move this into a better named directory, will do so in the future.\n",
    "root_dir = os.path.abspath(os.path.join(os.getcwd(), '..', '..'))\n",
    "if root_dir not in sys.path:\n",
    "    sys.path.append(root_dir)\n",
    "    \n",
    "from process_survey_cto_updated import process_egra_data\n",
    "from data_loader import load_zazi_izandi_2025\n",
    "\n",
    "def import_2025_results():\n",
    "    # Load data\n",
    "    df_full, df_ecd = load_zazi_izandi_2025()\n",
    "    df_full['submission_date'] = pd.to_datetime(df_full['date'])\n",
    "\n",
    "    # Create initial and midline datasets for comparison charts\n",
    "    initial_df = df_full[df_full['submission_date'] < pd.Timestamp('2025-04-15')]\n",
    "    midline_df = df_full[df_full['submission_date'] >= pd.Timestamp('2025-04-15')]\n",
    "    \n",
    "    return midline_df"
   ]
  },
  {
   "cell_type": "code",
   "execution_count": 35,
   "id": "33ffd3d6",
   "metadata": {},
   "outputs": [],
   "source": [
    "@function_tool\n",
    "def get_2025_number_of_children():\n",
    "    \"\"\"\n",
    "    Get the number of children on the programme in 2024\n",
    "    \"\"\"\n",
    "    midline_2025 = import_2025_results()\n",
    "    number_of_children = len(midline_2025)\n",
    "    return number_of_children"
   ]
  },
  {
   "cell_type": "code",
   "execution_count": 36,
   "id": "a3881e2c",
   "metadata": {},
   "outputs": [],
   "source": [
    "zazi_2025_agent = Agent(\n",
    "        name=\"Zazi 2025 Agent\",\n",
    "        instructions=instructions_2025,\n",
    "        model=\"gpt-4o-mini\",\n",
    "        tools=[get_2025_number_of_children]\n",
    ")"
   ]
  },
  {
   "cell_type": "code",
   "execution_count": 37,
   "id": "6bc032da",
   "metadata": {},
   "outputs": [],
   "source": [
    "tool_2025 = zazi_2025_agent.as_tool(tool_name=\"2025_researcher\", tool_description=\"Provides information, data, and statistics about the Zazi iZandi 2025 programme.\")\n"
   ]
  },
  {
   "cell_type": "markdown",
   "id": "5a5264f3",
   "metadata": {},
   "source": [
    "Now that we created the 2025 agent and converted it into a tool, we need to give our supervisor agent access to it."
   ]
  },
  {
   "cell_type": "code",
   "execution_count": 38,
   "id": "beda41f9",
   "metadata": {},
   "outputs": [],
   "source": [
    "zazi_supervisor = Agent(\n",
    "        name=\"Zazi Supervisor\",\n",
    "        instructions=instructions_supervisor,\n",
    "        model=\"gpt-4o\",\n",
    "        tools=[tool_2023, tool_2024, tool_2025]\n",
    ")"
   ]
  },
  {
   "cell_type": "markdown",
   "id": "4bfd3a23",
   "metadata": {},
   "source": [
    "Let's quickly test it."
   ]
  },
  {
   "cell_type": "code",
   "execution_count": 39,
   "id": "fb10a971",
   "metadata": {},
   "outputs": [
    {
     "name": "stderr",
     "output_type": "stream",
     "text": [
      "2025-07-30 09:24:22.219 WARNING streamlit.runtime.caching.cache_data_api: No runtime found, using MemoryCacheStorageManager\n",
      "2025-07-30 09:24:22.223 WARNING streamlit.runtime.scriptrunner_utils.script_run_context: Thread 'MainThread': missing ScriptRunContext! This warning can be ignored when running in bare mode.\n",
      "2025-07-30 09:24:22.224 WARNING streamlit.runtime.caching.cache_data_api: No runtime found, using MemoryCacheStorageManager\n",
      "2025-07-30 09:24:22.227 WARNING streamlit.runtime.scriptrunner_utils.script_run_context: Thread 'MainThread': missing ScriptRunContext! This warning can be ignored when running in bare mode.\n",
      "2025-07-30 09:24:22.361 \n",
      "  \u001b[33m\u001b[1mWarning:\u001b[0m to view this Streamlit app on a browser, run it with the following\n",
      "  command:\n",
      "\n",
      "    streamlit run /Users/jimmckeown/Python/ZZ Data Site/venv/lib/python3.13/site-packages/ipykernel_launcher.py [ARGUMENTS]\n",
      "2025-07-30 09:24:22.362 Thread 'MainThread': missing ScriptRunContext! This warning can be ignored when running in bare mode.\n",
      "2025-07-30 09:24:22.362 Thread 'MainThread': missing ScriptRunContext! This warning can be ignored when running in bare mode.\n",
      "/Users/jimmckeown/Python/ZZ Data Site/process_survey_cto_updated.py:37: UserWarning: Could not infer format, so each element will be parsed individually, falling back to `dateutil`. To ensure parsing is consistent and as-expected, please specify a format.\n",
      "  children_df = pd.read_csv(children_file, parse_dates=['date'], dtype={\n",
      "2025-07-30 09:24:22.874 Thread 'Thread-12': missing ScriptRunContext! This warning can be ignored when running in bare mode.\n",
      "2025-07-30 09:24:22.961 Thread 'Thread-12': missing ScriptRunContext! This warning can be ignored when running in bare mode.\n",
      "2025-07-30 09:24:30.051 Thread 'MainThread': missing ScriptRunContext! This warning can be ignored when running in bare mode.\n",
      "2025-07-30 09:24:30.051 Thread 'MainThread': missing ScriptRunContext! This warning can be ignored when running in bare mode.\n"
     ]
    },
    {
     "name": "stdout",
     "output_type": "stream",
     "text": [
      "In 2025, there are **2,352 children** enrolled in the Zazi iZandi literacy programme.\n"
     ]
    }
   ],
   "source": [
    "question = \"How many children are on the programme in 2025?\"\n",
    "\n",
    "with trace(\"Zazi iZandi Supervisor Agent\"):\n",
    "    result = await Runner.run(zazi_supervisor, question)\n",
    "\n",
    "print(result.final_output)"
   ]
  },
  {
   "cell_type": "markdown",
   "id": "8badb6f3",
   "metadata": {},
   "source": []
  }
 ],
 "metadata": {
  "kernelspec": {
   "display_name": "venv",
   "language": "python",
   "name": "python3"
  },
  "language_info": {
   "codemirror_mode": {
    "name": "ipython",
    "version": 3
   },
   "file_extension": ".py",
   "mimetype": "text/x-python",
   "name": "python",
   "nbconvert_exporter": "python",
   "pygments_lexer": "ipython3",
   "version": "3.13.5"
  }
 },
 "nbformat": 4,
 "nbformat_minor": 5
}
