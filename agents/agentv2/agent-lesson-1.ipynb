{
 "cells": [
  {
   "cell_type": "markdown",
   "id": "117ee9e2",
   "metadata": {},
   "source": [
    "Let's import the agent SDK classes and functions we need, as long as sendgrid helper info."
   ]
  },
  {
   "cell_type": "code",
   "execution_count": 3,
   "id": "a515ab70",
   "metadata": {},
   "outputs": [],
   "source": [
    "from dotenv import load_dotenv\n",
    "from agents import Agent, Runner, trace, function_tool\n",
    "from openai.types.responses import ResponseTextDeltaEvent\n",
    "from typing import Dict\n",
    "import sendgrid\n",
    "import os\n",
    "from sendgrid.helpers.mail import Mail, Email, To, Content\n",
    "import asyncio"
   ]
  },
  {
   "cell_type": "code",
   "execution_count": 4,
   "id": "c8f5c116",
   "metadata": {},
   "outputs": [
    {
     "data": {
      "text/plain": [
       "True"
      ]
     },
     "execution_count": 4,
     "metadata": {},
     "output_type": "execute_result"
    }
   ],
   "source": [
    "load_dotenv(override=True)"
   ]
  },
  {
   "cell_type": "markdown",
   "id": "cdd7fc93",
   "metadata": {},
   "source": [
    "### Email Function\n",
    "We could use this to allow the LLM to email us for a variet of reasons. For example, maybe it wants to tell us there's a question it couldn't answer. Another example might be if someone is reaching out to us and the LLM wants to say something like, \"Hey, Jonas from Masifunde is asking to connect.\""
   ]
  },
  {
   "cell_type": "code",
   "execution_count": 5,
   "id": "3ebc956d",
   "metadata": {},
   "outputs": [
    {
     "ename": "UnauthorizedError",
     "evalue": "HTTP Error 401: Unauthorized",
     "output_type": "error",
     "traceback": [
      "\u001b[31m---------------------------------------------------------------------------\u001b[39m",
      "\u001b[31mUnauthorizedError\u001b[39m                         Traceback (most recent call last)",
      "\u001b[36mCell\u001b[39m\u001b[36m \u001b[39m\u001b[32mIn[5]\u001b[39m\u001b[32m, line 10\u001b[39m\n\u001b[32m      7\u001b[39m     response = sg.client.mail.send.post(request_body=mail)\n\u001b[32m      8\u001b[39m     \u001b[38;5;28mprint\u001b[39m(response.status_code)\n\u001b[32m---> \u001b[39m\u001b[32m10\u001b[39m \u001b[43msend_test_email\u001b[49m\u001b[43m(\u001b[49m\u001b[43m)\u001b[49m\n",
      "\u001b[36mCell\u001b[39m\u001b[36m \u001b[39m\u001b[32mIn[5]\u001b[39m\u001b[32m, line 7\u001b[39m, in \u001b[36msend_test_email\u001b[39m\u001b[34m()\u001b[39m\n\u001b[32m      5\u001b[39m content = Content(\u001b[33m\"\u001b[39m\u001b[33mtext/plain\u001b[39m\u001b[33m\"\u001b[39m, \u001b[33m\"\u001b[39m\u001b[33mThis is an important test email\u001b[39m\u001b[33m\"\u001b[39m)\n\u001b[32m      6\u001b[39m mail = Mail(from_email, to_email, \u001b[33m\"\u001b[39m\u001b[33mTest email\u001b[39m\u001b[33m\"\u001b[39m, content).get()\n\u001b[32m----> \u001b[39m\u001b[32m7\u001b[39m response = \u001b[43msg\u001b[49m\u001b[43m.\u001b[49m\u001b[43mclient\u001b[49m\u001b[43m.\u001b[49m\u001b[43mmail\u001b[49m\u001b[43m.\u001b[49m\u001b[43msend\u001b[49m\u001b[43m.\u001b[49m\u001b[43mpost\u001b[49m\u001b[43m(\u001b[49m\u001b[43mrequest_body\u001b[49m\u001b[43m=\u001b[49m\u001b[43mmail\u001b[49m\u001b[43m)\u001b[49m\n\u001b[32m      8\u001b[39m \u001b[38;5;28mprint\u001b[39m(response.status_code)\n",
      "\u001b[36mFile \u001b[39m\u001b[32m~/Python/ZZ Data Site/venv/lib/python3.13/site-packages/python_http_client/client.py:277\u001b[39m, in \u001b[36mClient.__getattr__.<locals>.http_request\u001b[39m\u001b[34m(request_body, query_params, request_headers, timeout, **_)\u001b[39m\n\u001b[32m    271\u001b[39m     _logger.debug(\u001b[33m'\u001b[39m\u001b[33mPAYLOAD: \u001b[39m\u001b[38;5;132;01m{data}\u001b[39;00m\u001b[33m'\u001b[39m.format(\n\u001b[32m    272\u001b[39m         data=request.data))\n\u001b[32m    273\u001b[39m _logger.debug(\u001b[33m'\u001b[39m\u001b[33mHEADERS: \u001b[39m\u001b[38;5;132;01m{headers}\u001b[39;00m\u001b[33m'\u001b[39m.format(\n\u001b[32m    274\u001b[39m     headers=request.headers))\n\u001b[32m    276\u001b[39m response = Response(\n\u001b[32m--> \u001b[39m\u001b[32m277\u001b[39m     \u001b[38;5;28;43mself\u001b[39;49m\u001b[43m.\u001b[49m\u001b[43m_make_request\u001b[49m\u001b[43m(\u001b[49m\u001b[43mopener\u001b[49m\u001b[43m,\u001b[49m\u001b[43m \u001b[49m\u001b[43mrequest\u001b[49m\u001b[43m,\u001b[49m\u001b[43m \u001b[49m\u001b[43mtimeout\u001b[49m\u001b[43m=\u001b[49m\u001b[43mtimeout\u001b[49m\u001b[43m)\u001b[49m\n\u001b[32m    278\u001b[39m )\n\u001b[32m    280\u001b[39m _logger.debug(\u001b[33m'\u001b[39m\u001b[38;5;132;01m{method}\u001b[39;00m\u001b[33m Response: \u001b[39m\u001b[38;5;132;01m{status}\u001b[39;00m\u001b[33m \u001b[39m\u001b[38;5;132;01m{body}\u001b[39;00m\u001b[33m'\u001b[39m.format(\n\u001b[32m    281\u001b[39m     method=method,\n\u001b[32m    282\u001b[39m     status=response.status_code,\n\u001b[32m    283\u001b[39m     body=response.body))\n\u001b[32m    285\u001b[39m \u001b[38;5;28;01mreturn\u001b[39;00m response\n",
      "\u001b[36mFile \u001b[39m\u001b[32m~/Python/ZZ Data Site/venv/lib/python3.13/site-packages/python_http_client/client.py:184\u001b[39m, in \u001b[36mClient._make_request\u001b[39m\u001b[34m(self, opener, request, timeout)\u001b[39m\n\u001b[32m    179\u001b[39m exc.__cause__ = \u001b[38;5;28;01mNone\u001b[39;00m\n\u001b[32m    180\u001b[39m _logger.debug(\u001b[33m'\u001b[39m\u001b[38;5;132;01m{method}\u001b[39;00m\u001b[33m Response: \u001b[39m\u001b[38;5;132;01m{status}\u001b[39;00m\u001b[33m \u001b[39m\u001b[38;5;132;01m{body}\u001b[39;00m\u001b[33m'\u001b[39m.format(\n\u001b[32m    181\u001b[39m     method=request.get_method(),\n\u001b[32m    182\u001b[39m     status=exc.status_code,\n\u001b[32m    183\u001b[39m     body=exc.body))\n\u001b[32m--> \u001b[39m\u001b[32m184\u001b[39m \u001b[38;5;28;01mraise\u001b[39;00m exc\n",
      "\u001b[31mUnauthorizedError\u001b[39m: HTTP Error 401: Unauthorized"
     ]
    }
   ],
   "source": [
    "\n",
    "def send_test_email():\n",
    "    sg = sendgrid.SendGridAPIClient(api_key=os.environ.get('SENDGRID_API_KEY'))\n",
    "    from_email = Email(\"jim@masinyusane.org\")\n",
    "    to_email = To(\"jim@masinyusane.org\")\n",
    "    content = Content(\"text/plain\", \"This is an important test email\")\n",
    "    mail = Mail(from_email, to_email, \"Test email\", content).get()\n",
    "    response = sg.client.mail.send.post(request_body=mail)\n",
    "    print(response.status_code)\n",
    "\n",
    "send_test_email()"
   ]
  },
  {
   "cell_type": "markdown",
   "id": "36038a7a",
   "metadata": {},
   "source": [
    "This is some background info for us to dynamically plug into each of the agent contexts"
   ]
  },
  {
   "cell_type": "code",
   "execution_count": 20,
   "id": "14f01352",
   "metadata": {},
   "outputs": [],
   "source": [
    "zz_background = \"\"\"# PROGRAMME OVERVIEW\n",
    "- Programme: **Zazi iZandi** (South Africa)\n",
    "- Intervention: Teaching small groups of **7 children** their letter sounds in a **frequency‑based sequence**.\n",
    "- Groups are **level‑based**: each group may be working on different letters at any given time.\n",
    "- Teacher Assistants (TAs) use an official **Letter Tracker** ordered by letter frequency.\"\"\""
   ]
  },
  {
   "cell_type": "markdown",
   "id": "0a0c1566",
   "metadata": {},
   "source": [
    "Let's create some instructions for our agents. Putting this here to make the code more readable."
   ]
  },
  {
   "cell_type": "code",
   "execution_count": 22,
   "id": "2294c042",
   "metadata": {},
   "outputs": [],
   "source": [
    "instructions_2023 = f\"You are a helpful data analyst. You help the user with understanding the performance of the Zazi iZandi literacy programme in 2023. {zz_background}\"\n",
    "instructions_2024 = f\"You are a helpful data analyst. You help the user with understanding the performance of the Zazi iZandi literacy programme in 2024. {zz_background}\"\n",
    "instructions_2025 = f\"You are a helpful data analyst. You help the user with understanding the performance of the Zazi iZandi literacy programme in 2025. {zz_background}\"\n"
   ]
  },
  {
   "cell_type": "markdown",
   "id": "4bc231d1",
   "metadata": {},
   "source": [
    "Okay, let's create some agents!"
   ]
  },
  {
   "cell_type": "code",
   "execution_count": 23,
   "id": "98a3b265",
   "metadata": {},
   "outputs": [],
   "source": [
    "zazi_2023_agent = Agent(\n",
    "        name=\"Zazi 2023 Agent\",\n",
    "        instructions=instructions_2023,\n",
    "        model=\"gpt-4o-mini\"\n",
    ")\n",
    "\n",
    "zazi_2024_agent = Agent(\n",
    "        name=\"Zazi 2024 Agent\",\n",
    "        instructions=instructions_2024,\n",
    "        model=\"gpt-4o-mini\"\n",
    ")\n",
    "\n",
    "zazi_2025_agent = Agent(\n",
    "        name=\"Zazi 2025 Agent\",\n",
    "        instructions=instructions_2025,\n",
    "        model=\"gpt-4o-mini\"\n",
    ")"
   ]
  },
  {
   "cell_type": "markdown",
   "id": "a84249f2",
   "metadata": {},
   "source": [
    "Now let's test the first agent and see that it runs."
   ]
  },
  {
   "cell_type": "code",
   "execution_count": 24,
   "id": "fb308cd6",
   "metadata": {},
   "outputs": [
    {
     "name": "stdout",
     "output_type": "stream",
     "text": [
      "To determine how many children were in the Zazi iZandi literacy programme in 2023, I would need specific enrollment data or statistics provided for that year. If you have any figures or additional details regarding the number of groups or total participants, please share them, and I can help you analyze the data."
     ]
    }
   ],
   "source": [
    "result = Runner.run_streamed(zazi_2023_agent, input=\"How many children were on the programme in 2023?\")\n",
    "async for event in result.stream_events():\n",
    "    if event.type == \"raw_response_event\" and isinstance(event.data, ResponseTextDeltaEvent):\n",
    "        print(event.data.delta, end=\"\", flush=True)"
   ]
  },
  {
   "cell_type": "markdown",
   "id": "0a37b13d",
   "metadata": {},
   "source": [
    "Okay, now let's pull in some data to give the agents some basic tools. Just going to set root path and then import some of the data loaders & preprocessors"
   ]
  },
  {
   "cell_type": "code",
   "execution_count": 11,
   "id": "311e6b29",
   "metadata": {},
   "outputs": [],
   "source": [
    "import os\n",
    "import sys\n",
    "import pandas as pd\n",
    "import plotly.express as px\n",
    "import matplotlib.pyplot as plt\n",
    "import seaborn as sns\n",
    "import statsmodels.api as sm\n",
    "import streamlit as st\n",
    "\n",
    "# We need to set root directory so we can find the zz_data_process_23.py file. I should obviously move this into a better named directory, will do so in the future.\n",
    "root_dir = os.path.abspath(os.path.join(os.getcwd(), '..', '..'))\n",
    "if root_dir not in sys.path:\n",
    "    sys.path.append(root_dir)\n",
    "\n",
    "#2023 Data\n",
    "from zz_data_process_23 import process_zz_data_23\n",
    "from data_loader import load_zazi_izandi_2023\n",
    "\n",
    "#2024 Data\n",
    "from zz_data_processing import process_zz_data_midline, process_zz_data_endline, grade1_df, gradeR_df\n",
    "from data_loader import load_zazi_izandi_2024\n"
   ]
  },
  {
   "cell_type": "markdown",
   "id": "948fb770",
   "metadata": {},
   "source": [
    "Create functions to import 2023 and 2024 data."
   ]
  },
  {
   "cell_type": "code",
   "execution_count": 12,
   "id": "1e54390d",
   "metadata": {},
   "outputs": [],
   "source": [
    "    \n",
    "def import_2023_results():\n",
    "    # Import dataframes\n",
    "    endline_df, sessions_df = load_zazi_izandi_2023()\n",
    "    endline = process_zz_data_23(endline_df, sessions_df)\n",
    "    return endline"
   ]
  },
  {
   "cell_type": "code",
   "execution_count": 13,
   "id": "bb4c5e1a",
   "metadata": {},
   "outputs": [],
   "source": [
    "def import_2024_results():\n",
    "    baseline_df, midline_df, sessions_df, baseline2_df, endline_df, endline2_df = load_zazi_izandi_2024()\n",
    "    \n",
    "    # Create deep copies to ensure data independence between tabs\n",
    "    baseline_df = baseline_df.copy()\n",
    "    midline_df = midline_df.copy()\n",
    "    sessions_df = sessions_df.copy()\n",
    "    endline_df = endline_df.copy()\n",
    "\n",
    "    midline, baseline = process_zz_data_midline(baseline_df, midline_df, sessions_df)\n",
    "    endline = process_zz_data_endline(endline_df)\n",
    "    grade1 = grade1_df(endline)\n",
    "    gradeR = gradeR_df(endline)\n",
    "    \n",
    "    return endline"
   ]
  },
  {
   "cell_type": "code",
   "execution_count": null,
   "id": "428c52ff",
   "metadata": {},
   "outputs": [],
   "source": []
  },
  {
   "cell_type": "markdown",
   "id": "4c8d23a1",
   "metadata": {},
   "source": [
    "Okay, let's create a super simple tool."
   ]
  },
  {
   "cell_type": "code",
   "execution_count": 15,
   "id": "e149a5ec",
   "metadata": {},
   "outputs": [],
   "source": [
    "@function_tool\n",
    "def get_2023_number_of_children():\n",
    "    \"\"\"\n",
    "    Get the number of children on the programme in 2023\n",
    "    \"\"\"\n",
    "    endline_2023 = import_2023_results()\n",
    "    number_of_children = len(endline_2023)\n",
    "    return number_of_children\n",
    "\n",
    "@function_tool\n",
    "def get_2024_number_of_children():\n",
    "    \"\"\"\n",
    "    Get the number of children on the programme in 2024\n",
    "    \"\"\"\n",
    "    endline_2024 = import_2024_results()\n",
    "    number_of_children = len(endline_2024)\n",
    "    return number_of_children"
   ]
  },
  {
   "cell_type": "markdown",
   "id": "febaaa60",
   "metadata": {},
   "source": [
    "Let's update the instructions to tell the LLM to use the tool to get the number of children if asked."
   ]
  },
  {
   "cell_type": "code",
   "execution_count": 25,
   "id": "7338aadc",
   "metadata": {},
   "outputs": [],
   "source": [
    "instructions_2023 = f\"You are a helpful data analyst. You help the user with understanding the performance of the Zazi iZandi literacy programme in 2023. {zz_background}. If you need to know the number of children on the programme, you can use the get_2023_number_of_children function.\"\n",
    "instructions_2024 = f\"You are a helpful data analyst. You help the user with understanding the performance of the Zazi iZandi literacy programme in 2024. {zz_background}. If you need to know the number of children on the programme, you can use the get_2024_number_of_children function.\"\n",
    "instructions_2025 = f\"You are a helpful data analyst. You help the user with understanding the performance of the Zazi iZandi literacy programme in 2025. {zz_background}. If you need to know the number of children on the programme, you can use the get_2025_number_of_children function.\"\n"
   ]
  },
  {
   "cell_type": "markdown",
   "id": "1ead639e",
   "metadata": {},
   "source": [
    "Now let's update the agents to have the tools we created."
   ]
  },
  {
   "cell_type": "code",
   "execution_count": 26,
   "id": "eec954a4",
   "metadata": {},
   "outputs": [],
   "source": [
    "zazi_2023_agent = Agent(\n",
    "        name=\"Zazi 2023 Agent\",\n",
    "        instructions=instructions_2023,\n",
    "        model=\"gpt-4o-mini\",\n",
    "        tools=[get_2023_number_of_children]\n",
    ")\n",
    "\n",
    "zazi_2024_agent = Agent(\n",
    "        name=\"Zazi 2024 Agent\",\n",
    "        instructions=instructions_2024,\n",
    "        model=\"gpt-4o-mini\",\n",
    "        tools=[get_2024_number_of_children]\n",
    ")"
   ]
  },
  {
   "cell_type": "code",
   "execution_count": 27,
   "id": "186bf61b",
   "metadata": {},
   "outputs": [],
   "source": [
    "question = \"How many children were on the programme in 2023?\""
   ]
  },
  {
   "cell_type": "code",
   "execution_count": 28,
   "id": "850ec248",
   "metadata": {},
   "outputs": [
    {
     "name": "stderr",
     "output_type": "stream",
     "text": [
      "2025-09-12 09:18:38.561 WARNING streamlit.runtime.scriptrunner_utils.script_run_context: Thread 'MainThread': missing ScriptRunContext! This warning can be ignored when running in bare mode.\n",
      "/Users/jimmckeown/Python/ZZ Data Site/venv/lib/python3.13/site-packages/openpyxl/worksheet/_reader.py:329: UserWarning: Unknown extension is not supported and will be removed\n",
      "  warn(msg)\n"
     ]
    },
    {
     "name": "stdout",
     "output_type": "stream",
     "text": [
      "In 2023, there were 1,896 children on the Zazi iZandi literacy programme.\n"
     ]
    }
   ],
   "source": [
    "with trace(\"Zazi 2023 Agent\"):\n",
    "    result = await Runner.run(zazi_2023_agent, question)\n",
    "\n",
    "print(result.final_output)"
   ]
  },
  {
   "cell_type": "markdown",
   "id": "a261557c",
   "metadata": {},
   "source": [
    "Below is a version of the 2023 agent streaming back the results."
   ]
  },
  {
   "cell_type": "code",
   "execution_count": 29,
   "id": "33144ff9",
   "metadata": {},
   "outputs": [
    {
     "name": "stderr",
     "output_type": "stream",
     "text": [
      "2025-09-12 09:18:43.693 WARNING streamlit.runtime.scriptrunner_utils.script_run_context: Thread 'MainThread': missing ScriptRunContext! This warning can be ignored when running in bare mode.\n",
      "/Users/jimmckeown/Python/ZZ Data Site/venv/lib/python3.13/site-packages/openpyxl/worksheet/_reader.py:329: UserWarning: Unknown extension is not supported and will be removed\n",
      "  warn(msg)\n"
     ]
    },
    {
     "name": "stdout",
     "output_type": "stream",
     "text": [
      "In 2023, there were **1,896 children** on the Zazi iZandi literacy programme."
     ]
    }
   ],
   "source": [
    "result = Runner.run_streamed(zazi_2023_agent, input=question)\n",
    "async for event in result.stream_events():\n",
    "    if event.type == \"raw_response_event\" and isinstance(event.data, ResponseTextDeltaEvent):\n",
    "        print(event.data.delta, end=\"\", flush=True)"
   ]
  },
  {
   "cell_type": "markdown",
   "id": "1d531c20",
   "metadata": {},
   "source": [
    "# Next Steps\n",
    "- Create an agentic solution where a supervisor agent can use the 2023 and 2024 agents to answer questions."
   ]
  },
  {
   "cell_type": "markdown",
   "id": "39154343",
   "metadata": {},
   "source": []
  }
 ],
 "metadata": {
  "kernelspec": {
   "display_name": "venv",
   "language": "python",
   "name": "python3"
  },
  "language_info": {
   "codemirror_mode": {
    "name": "ipython",
    "version": 3
   },
   "file_extension": ".py",
   "mimetype": "text/x-python",
   "name": "python",
   "nbconvert_exporter": "python",
   "pygments_lexer": "ipython3",
   "version": "3.13.5"
  }
 },
 "nbformat": 4,
 "nbformat_minor": 5
}
