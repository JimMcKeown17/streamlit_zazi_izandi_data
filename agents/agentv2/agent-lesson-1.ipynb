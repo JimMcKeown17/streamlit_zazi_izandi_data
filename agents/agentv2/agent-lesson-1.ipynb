{
 "cells": [
  {
   "cell_type": "markdown",
   "id": "117ee9e2",
   "metadata": {},
   "source": [
    "Let's import the agent SDK classes and functions we need, as long as sendgrid helper info."
   ]
  },
  {
   "cell_type": "code",
   "execution_count": 13,
   "id": "a515ab70",
   "metadata": {},
   "outputs": [],
   "source": [
    "from dotenv import load_dotenv\n",
    "from agents import Agent, Runner, trace, function_tool\n",
    "from openai.types.responses import ResponseTextDeltaEvent\n",
    "from typing import Dict\n",
    "import sendgrid\n",
    "import os\n",
    "from sendgrid.helpers.mail import Mail, Email, To, Content\n",
    "import asyncio"
   ]
  },
  {
   "cell_type": "code",
   "execution_count": 14,
   "id": "c8f5c116",
   "metadata": {},
   "outputs": [
    {
     "data": {
      "text/plain": [
       "True"
      ]
     },
     "execution_count": 14,
     "metadata": {},
     "output_type": "execute_result"
    }
   ],
   "source": [
    "load_dotenv(override=True)"
   ]
  },
  {
   "cell_type": "markdown",
   "id": "cdd7fc93",
   "metadata": {},
   "source": [
    "### Email Function\n",
    "We could use this to allow the LLM to email us for a variet of reasons. For example, maybe it wants to tell us there's a question it couldn't answer. Another example might be if someone is reaching out to us and the LLM wants to say something like, \"Hey, Jonas from Masifunde is asking to connect.\""
   ]
  },
  {
   "cell_type": "code",
   "execution_count": 15,
   "id": "3ebc956d",
   "metadata": {},
   "outputs": [
    {
     "name": "stdout",
     "output_type": "stream",
     "text": [
      "202\n"
     ]
    }
   ],
   "source": [
    "\n",
    "def send_test_email():\n",
    "    sg = sendgrid.SendGridAPIClient(api_key=os.environ.get('SENDGRID_API_KEY'))\n",
    "    from_email = Email(\"jim@masinyusane.org\")\n",
    "    to_email = To(\"jim@masinyusane.org\")\n",
    "    content = Content(\"text/plain\", \"This is an important test email\")\n",
    "    mail = Mail(from_email, to_email, \"Test email\", content).get()\n",
    "    response = sg.client.mail.send.post(request_body=mail)\n",
    "    print(response.status_code)\n",
    "\n",
    "send_test_email()"
   ]
  },
  {
   "cell_type": "markdown",
   "id": "36038a7a",
   "metadata": {},
   "source": [
    "This is some background info for us to dynamically plug into each of the agent contexts"
   ]
  },
  {
   "cell_type": "code",
   "execution_count": 20,
   "id": "14f01352",
   "metadata": {},
   "outputs": [],
   "source": [
    "zz_background = \"\"\"# PROGRAMME OVERVIEW\n",
    "- Programme: **Zazi iZandi** (South Africa)\n",
    "- Intervention: Teaching small groups of **7 children** their letter sounds in a **frequency‑based sequence**.\n",
    "- Groups are **level‑based**: each group may be working on different letters at any given time.\n",
    "- Teacher Assistants (TAs) use an official **Letter Tracker** ordered by letter frequency.\"\"\""
   ]
  },
  {
   "cell_type": "markdown",
   "id": "0a0c1566",
   "metadata": {},
   "source": [
    "Let's create some instructions for our agents. Putting this here to make the code more readable."
   ]
  },
  {
   "cell_type": "code",
   "execution_count": 21,
   "id": "2294c042",
   "metadata": {},
   "outputs": [],
   "source": [
    "instructions_2023 = f\"You are a helpful data analyst. You help the user with understanding the performance of the Zazi iZandi literacy programme in 2023. {zz_background}\"\n",
    "instructions_2024 = f\"You are a helpful data analyst. You help the user with understanding the performance of the Zazi iZandi literacy programme in 2024. {zz_background}\"\n",
    "instructions_2025 = f\"You are a helpful data analyst. You help the user with understanding the performance of the Zazi iZandi literacy programme in 2025. {zz_background}\"\n"
   ]
  },
  {
   "cell_type": "markdown",
   "id": "4bc231d1",
   "metadata": {},
   "source": [
    "Okay, let's create some agents!"
   ]
  },
  {
   "cell_type": "code",
   "execution_count": 22,
   "id": "98a3b265",
   "metadata": {},
   "outputs": [],
   "source": [
    "zazi_2023_agent = Agent(\n",
    "        name=\"Zazi 2023 Agent\",\n",
    "        instructions=instructions_2023,\n",
    "        model=\"gpt-4o-mini\"\n",
    ")\n",
    "\n",
    "zazi_2024_agent = Agent(\n",
    "        name=\"Zazi 2024 Agent\",\n",
    "        instructions=instructions_2024,\n",
    "        model=\"gpt-4o-mini\"\n",
    ")\n",
    "\n",
    "zazi_2025_agent = Agent(\n",
    "        name=\"Zazi 2025 Agent\",\n",
    "        instructions=instructions_2025,\n",
    "        model=\"gpt-4o-mini\"\n",
    ")"
   ]
  },
  {
   "cell_type": "markdown",
   "id": "a84249f2",
   "metadata": {},
   "source": [
    "Now let's test the first agent and see that it runs."
   ]
  },
  {
   "cell_type": "code",
   "execution_count": null,
   "id": "6babd816",
   "metadata": {},
   "outputs": [],
   "source": []
  },
  {
   "cell_type": "code",
   "execution_count": null,
   "id": "b15308c7",
   "metadata": {},
   "outputs": [],
   "source": []
  },
  {
   "cell_type": "code",
   "execution_count": 24,
   "id": "fb308cd6",
   "metadata": {},
   "outputs": [
    {
     "name": "stdout",
     "output_type": "stream",
     "text": [
      "The Zazi iZandi literacy programme is an educational initiative in South Africa aimed at enhancing early literacy skills among young children. Here's a brief overview of its key elements:\n",
      "\n",
      "1. **Target Group**: The programme focuses on small groups of children, typically consisting of 7 students each. This small group setting allows for more personalized instruction.\n",
      "\n",
      "2. **Instruction Method**: The teaching revolves around letter sounds, which are introduced in a frequency-based sequence. This means children learn letters based on how often they appear in the language, making it more efficient for reading development.\n",
      "\n",
      "3. **Level-Based Groups**: Different groups may work on different letters at any given time. This differentiation ensures that each child's learning needs are met, allowing them to progress at their own pace.\n",
      "\n",
      "4. **Teacher Assistants (TAs)**: The programme employs Teacher Assistants who facilitate learning sessions and use an official tool called the **Letter Tracker**. This tracker helps in organizing the teaching process according to letter frequency, ensuring that the instruction aligns with language structure.\n",
      "\n",
      "Overall, Zazi iZandi aims to improve literacy skills in a structured, engaging, and evidence-informed manner, catering to the specific needs of young learners."
     ]
    }
   ],
   "source": [
    "result = Runner.run_streamed(zazi_2023_agent, input=\"What is Zazi iZandi all about?\")\n",
    "async for event in result.stream_events():\n",
    "    if event.type == \"raw_response_event\" and isinstance(event.data, ResponseTextDeltaEvent):\n",
    "        print(event.data.delta, end=\"\", flush=True)"
   ]
  },
  {
   "cell_type": "markdown",
   "id": "0a37b13d",
   "metadata": {},
   "source": [
    "Okay, now let's pull in some data to give the agents some basic tools. Just going to set root path and then import some of the data loaders & preprocessors"
   ]
  },
  {
   "cell_type": "code",
   "execution_count": null,
   "id": "311e6b29",
   "metadata": {},
   "outputs": [],
   "source": [
    "import os\n",
    "import sys\n",
    "import pandas as pd\n",
    "import plotly.express as px\n",
    "import matplotlib.pyplot as plt\n",
    "import seaborn as sns\n",
    "import statsmodels.api as sm\n",
    "import streamlit as st\n",
    "\n",
    "# We need to set root directory so we can find the zz_data_process_23.py file. I should obviously move this into a better named directory, will do so in the future.\n",
    "root_dir = os.path.abspath(os.path.join(os.getcwd(), '..', '..'))\n",
    "if root_dir not in sys.path:\n",
    "    sys.path.append(root_dir)\n",
    "\n",
    "#2023 Data\n",
    "from zz_data_process_23 import process_zz_data_23\n",
    "from data_loader import load_zazi_izandi_2023\n",
    "\n",
    "#2024 Data\n",
    "from zz_data_processing import process_zz_data_midline, process_zz_data_endline, grade1_df, gradeR_df\n",
    "from data_loader import load_zazi_izandi_2024\n"
   ]
  },
  {
   "cell_type": "markdown",
   "id": "948fb770",
   "metadata": {},
   "source": [
    "Create functions to import 2023 and 2024 data."
   ]
  },
  {
   "cell_type": "code",
   "execution_count": 38,
   "id": "1e54390d",
   "metadata": {},
   "outputs": [],
   "source": [
    "    \n",
    "def import_2023_results():\n",
    "    # Import dataframes\n",
    "    endline_df, sessions_df = load_zazi_izandi_2023()\n",
    "    endline = process_zz_data_23(endline_df, sessions_df)\n",
    "    return endline"
   ]
  },
  {
   "cell_type": "code",
   "execution_count": 39,
   "id": "bb4c5e1a",
   "metadata": {},
   "outputs": [],
   "source": [
    "def import_2024_results():\n",
    "    baseline_df, midline_df, sessions_df, baseline2_df, endline_df, endline2_df = load_zazi_izandi_2024()\n",
    "    \n",
    "    # Create deep copies to ensure data independence between tabs\n",
    "    baseline_df = baseline_df.copy()\n",
    "    midline_df = midline_df.copy()\n",
    "    sessions_df = sessions_df.copy()\n",
    "    endline_df = endline_df.copy()\n",
    "\n",
    "    midline, baseline = process_zz_data_midline(baseline_df, midline_df, sessions_df)\n",
    "    endline = process_zz_data_endline(endline_df)\n",
    "    grade1 = grade1_df(endline)\n",
    "    gradeR = gradeR_df(endline)\n",
    "    \n",
    "    return endline"
   ]
  },
  {
   "cell_type": "code",
   "execution_count": null,
   "id": "428c52ff",
   "metadata": {},
   "outputs": [
    {
     "name": "stderr",
     "output_type": "stream",
     "text": [
      "2025-07-23 11:34:23.982 WARNING streamlit.runtime.scriptrunner_utils.script_run_context: Thread 'MainThread': missing ScriptRunContext! This warning can be ignored when running in bare mode.\n",
      "/Users/jimmckeown/Python/ZZ Data Site/venv/lib/python3.13/site-packages/openpyxl/worksheet/_reader.py:329: UserWarning: Unknown extension is not supported and will be removed\n",
      "  warn(msg)\n",
      "2025-07-23 11:34:24.323 WARNING streamlit.runtime.scriptrunner_utils.script_run_context: Thread 'MainThread': missing ScriptRunContext! This warning can be ignored when running in bare mode.\n",
      "/Users/jimmckeown/Python/ZZ Data Site/venv/lib/python3.13/site-packages/openpyxl/worksheet/_reader.py:329: UserWarning: Unknown extension is not supported and will be removed\n",
      "  warn(msg)\n",
      "/Users/jimmckeown/Python/ZZ Data Site/venv/lib/python3.13/site-packages/openpyxl/worksheet/_reader.py:329: UserWarning: Unknown extension is not supported and will be removed\n",
      "  warn(msg)\n"
     ]
    }
   ],
   "source": []
  },
  {
   "cell_type": "markdown",
   "id": "4c8d23a1",
   "metadata": {},
   "source": [
    "Okay, let's create a super simple tool."
   ]
  },
  {
   "cell_type": "code",
   "execution_count": 41,
   "id": "e149a5ec",
   "metadata": {},
   "outputs": [],
   "source": [
    "@function_tool\n",
    "def get_2023_number_of_children():\n",
    "    \"\"\"\n",
    "    Get the number of children on the programme in 2023\n",
    "    \"\"\"\n",
    "    endline_2023 = import_2023_results()\n",
    "    number_of_children = len(endline_2023)\n",
    "    return number_of_children\n",
    "\n",
    "@function_tool\n",
    "def get_2024_number_of_children():\n",
    "    \"\"\"\n",
    "    Get the number of children on the programme in 2024\n",
    "    \"\"\"\n",
    "    endline_2024 = import_2024_results()\n",
    "    number_of_children = len(endline_2024)\n",
    "    return number_of_children"
   ]
  },
  {
   "cell_type": "markdown",
   "id": "febaaa60",
   "metadata": {},
   "source": [
    "Let's update the instructions to tell the LLM to use the tool to get the number of children if asked."
   ]
  },
  {
   "cell_type": "code",
   "execution_count": 43,
   "id": "7338aadc",
   "metadata": {},
   "outputs": [],
   "source": [
    "instructions_2023 = f\"You are a helpful data analyst. You help the user with understanding the performance of the Zazi iZandi literacy programme in 2023. {zz_background}. If you need to know the number of children on the programme, you can use the get_2023_number_of_children function.\"\n",
    "instructions_2024 = f\"You are a helpful data analyst. You help the user with understanding the performance of the Zazi iZandi literacy programme in 2024. {zz_background}. If you need to know the number of children on the programme, you can use the get_2024_number_of_children function.\"\n",
    "instructions_2025 = f\"You are a helpful data analyst. You help the user with understanding the performance of the Zazi iZandi literacy programme in 2025. {zz_background}. If you need to know the number of children on the programme, you can use the get_2025_number_of_children function.\"\n"
   ]
  },
  {
   "cell_type": "markdown",
   "id": "1ead639e",
   "metadata": {},
   "source": [
    "Now let's update the agents to have the tools we created."
   ]
  },
  {
   "cell_type": "code",
   "execution_count": 46,
   "id": "eec954a4",
   "metadata": {},
   "outputs": [],
   "source": [
    "zazi_2023_agent = Agent(\n",
    "        name=\"Zazi 2023 Agent\",\n",
    "        instructions=instructions_2023,\n",
    "        model=\"gpt-4o-mini\",\n",
    "        tools=[get_2023_number_of_children]\n",
    ")\n",
    "\n",
    "zazi_2024_agent = Agent(\n",
    "        name=\"Zazi 2024 Agent\",\n",
    "        instructions=instructions_2024,\n",
    "        model=\"gpt-4o-mini\",\n",
    "        tools=[get_2024_number_of_children]\n",
    ")"
   ]
  },
  {
   "cell_type": "code",
   "execution_count": 47,
   "id": "186bf61b",
   "metadata": {},
   "outputs": [],
   "source": [
    "question = \"How many children were on the programme in 2023?\""
   ]
  },
  {
   "cell_type": "code",
   "execution_count": null,
   "id": "850ec248",
   "metadata": {},
   "outputs": [
    {
     "name": "stderr",
     "output_type": "stream",
     "text": [
      "2025-07-23 11:49:32.799 WARNING streamlit.runtime.scriptrunner_utils.script_run_context: Thread 'MainThread': missing ScriptRunContext! This warning can be ignored when running in bare mode.\n",
      "/Users/jimmckeown/Python/ZZ Data Site/venv/lib/python3.13/site-packages/openpyxl/worksheet/_reader.py:329: UserWarning: Unknown extension is not supported and will be removed\n",
      "  warn(msg)\n"
     ]
    },
    {
     "name": "stdout",
     "output_type": "stream",
     "text": [
      "In 2023, there were 1,896 children on the Zazi iZandi literacy programme.\n"
     ]
    }
   ],
   "source": [
    "with trace(\"Zazi 2023 Agent\"):\n",
    "    result = await Runner.run(zazi_2023_agent, question)\n",
    "\n",
    "print(result.final_output)"
   ]
  },
  {
   "cell_type": "markdown",
   "id": "a261557c",
   "metadata": {},
   "source": [
    "Below is a version of the 2023 agent streaming back the results."
   ]
  },
  {
   "cell_type": "code",
   "execution_count": null,
   "id": "33144ff9",
   "metadata": {},
   "outputs": [
    {
     "name": "stderr",
     "output_type": "stream",
     "text": [
      "2025-07-23 11:47:27.175 WARNING streamlit.runtime.scriptrunner_utils.script_run_context: Thread 'MainThread': missing ScriptRunContext! This warning can be ignored when running in bare mode.\n",
      "/Users/jimmckeown/Python/ZZ Data Site/venv/lib/python3.13/site-packages/openpyxl/worksheet/_reader.py:329: UserWarning: Unknown extension is not supported and will be removed\n",
      "  warn(msg)\n"
     ]
    },
    {
     "name": "stdout",
     "output_type": "stream",
     "text": [
      "In 2023, there were **1,896 children** enrolled in the Zazi iZandi literacy programme."
     ]
    }
   ],
   "source": [
    "result = Runner.run_streamed(zazi_2023_agent, input=question)\n",
    "async for event in result.stream_events():\n",
    "    if event.type == \"raw_response_event\" and isinstance(event.data, ResponseTextDeltaEvent):\n",
    "        print(event.data.delta, end=\"\", flush=True)"
   ]
  },
  {
   "cell_type": "markdown",
   "id": "1d531c20",
   "metadata": {},
   "source": [
    "# Next Steps\n",
    "- Create an agentic solution where a supervisor agent can use the 2023 and 2024 agents to answer questions."
   ]
  },
  {
   "cell_type": "markdown",
   "id": "39154343",
   "metadata": {},
   "source": []
  }
 ],
 "metadata": {
  "kernelspec": {
   "display_name": "venv",
   "language": "python",
   "name": "python3"
  },
  "language_info": {
   "codemirror_mode": {
    "name": "ipython",
    "version": 3
   },
   "file_extension": ".py",
   "mimetype": "text/x-python",
   "name": "python",
   "nbconvert_exporter": "python",
   "pygments_lexer": "ipython3",
   "version": "3.13.5"
  }
 },
 "nbformat": 4,
 "nbformat_minor": 5
}
